{
 "cells": [
  {
   "cell_type": "markdown",
   "metadata": {
    "colab_type": "text",
    "id": "view-in-github"
   },
   "source": [
    "<a href=\"https://colab.research.google.com/github/birddropping/IND5003-Group-Project/blob/main/IND5003_Group_Project.ipynb\" target=\"_parent\"><img src=\"https://colab.research.google.com/assets/colab-badge.svg\" alt=\"Open In Colab\"/></a>"
   ]
  },
  {
   "cell_type": "code",
   "execution_count": 74,
   "metadata": {
    "id": "ql-xU60LnVNY"
   },
   "outputs": [],
   "source": [
    "import numpy as np\n",
    "import pandas as pd\n",
    "pd.set_option('display.max_columns', 500)\n",
    "pd.set_option('display.max_rows', 500)\n",
    "pd.set_option('display.width', 1000)"
   ]
  },
  {
   "cell_type": "code",
   "execution_count": 176,
   "metadata": {},
   "outputs": [],
   "source": [
    "data_demo = pd.read_csv('data/demographic.csv')\n",
    "data_diet = pd.read_csv('data/diet.csv')\n",
    "data_exam = pd.read_csv('data/examination.csv')\n",
    "data_labs = pd.read_csv('data/labs.csv')\n",
    "data_meds = pd.read_csv('data/medications.csv', encoding = \"ISO-8859-1\")\n",
    "data_qns = pd.read_csv('data/questionnaire.csv')\n",
    "\n",
    "glu_data = pd.read_sas('data/GLU_H.XPT')\n",
    "data_labs = pd.merge(data_labs, glu_data, how='left', on='SEQN')"
   ]
  },
  {
   "cell_type": "markdown",
   "metadata": {},
   "source": [
    "362 participants declined further to participate. As indicated by '1' in RIDSTATR. data_diet, data_exam, data_labs only include participants who have consented to the study (10175 - 362 = 9813)."
   ]
  }
 ],
 "metadata": {
  "colab": {
   "authorship_tag": "ABX9TyPiXjmxgrZSVwNT4HigtXXl",
   "include_colab_link": true,
   "name": "IND5003 Group Project.ipynb",
   "provenance": []
  },
  "kernelspec": {
   "display_name": "Python 3",
   "language": "python",
   "name": "python3"
  },
  "language_info": {
   "codemirror_mode": {
    "name": "ipython",
    "version": 3
   },
   "file_extension": ".py",
   "mimetype": "text/x-python",
   "name": "python",
   "nbconvert_exporter": "python",
   "pygments_lexer": "ipython3",
   "version": "3.8.5"
  }
 },
 "nbformat": 4,
 "nbformat_minor": 4
}
