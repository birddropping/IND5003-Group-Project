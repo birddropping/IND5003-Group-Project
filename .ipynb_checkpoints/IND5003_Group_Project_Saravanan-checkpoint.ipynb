{
 "cells": [
  {
   "cell_type": "markdown",
   "metadata": {
    "colab_type": "text",
    "id": "view-in-github"
   },
   "source": [
    "<a href=\"https://colab.research.google.com/github/birddropping/IND5003-Group-Project/blob/main/IND5003_Group_Project.ipynb\" target=\"_parent\"><img src=\"https://colab.research.google.com/assets/colab-badge.svg\" alt=\"Open In Colab\"/></a>"
   ]
  },
  {
   "cell_type": "code",
   "execution_count": null,
   "metadata": {
    "id": "ql-xU60LnVNY"
   },
   "outputs": [],
   "source": [
    "import numpy as np\n",
    "import pandas as pd\n",
    "import matplotlib.pyplot as plt\n",
    "import seaborn as sns\n",
    "from functools import reduce\n",
    "pd.set_option('display.max_columns', 500)\n",
    "pd.set_option('display.max_rows', 500)\n",
    "pd.set_option('display.width', 1000)\n",
    "\n",
    "%matplotlib inline"
   ]
  },
  {
   "cell_type": "code",
   "execution_count": null,
   "metadata": {},
   "outputs": [],
   "source": [
    "data_demo = pd.read_csv('data/demographic.csv')\n",
    "data_diet = pd.read_csv('data/diet.csv')\n",
    "data_exam = pd.read_csv('data/examination.csv')\n",
    "data_labs = pd.read_csv('data/labs.csv')\n",
    "data_meds = pd.read_csv('data/medications.csv', encoding = \"ISO-8859-1\") # Had to use this encoding standard to read file\n",
    "data_qns = pd.read_csv('data/questionnaire.csv')\n",
    "data_dict = pd.read_excel('NHANES 2014 Dictionary.xlsx')\n",
    "\n",
    "data_vari = pd.read_excel('Variables.xlsx', squeeze = True)"
   ]
  },
  {
   "cell_type": "code",
   "execution_count": null,
   "metadata": {},
   "outputs": [],
   "source": [
    "glu_data = pd.read_sas('data/GLU_H.XPT') # Fasting glucose was not part of the original dataset. Added from NHANES website\n",
    "data_labs = pd.merge(data_labs, glu_data[['SEQN','LBDGLUSI']], how='outer', on=['SEQN'], validate = '1:1')"
   ]
  },
  {
   "cell_type": "code",
   "execution_count": null,
   "metadata": {},
   "outputs": [],
   "source": [
    "#remove duplicates from data_meds as each line covers 1 medication\n",
    "data_meds_m = data_meds.drop_duplicates(subset = ['SEQN', 'RXDCOUNT'], keep = 'first')"
   ]
  },
  {
   "cell_type": "markdown",
   "metadata": {},
   "source": [
    "Combine the 6 datasets together as 1 with SEQN as the lead. From there, we can trim out the variables that is not needed for our application of diabetes and mental health."
   ]
  },
  {
   "cell_type": "code",
   "execution_count": null,
   "metadata": {},
   "outputs": [],
   "source": [
    "#create massive dataset\n",
    "dataset = pd.merge(data_demo, data_diet, how = 'outer', on = ['SEQN'], validate = \"1:1\")\n",
    "dataset = pd.merge(dataset, data_exam, how = 'outer', on = ['SEQN'], validate = \"1:1\")\n",
    "dataset = pd.merge(dataset, data_labs, how = 'outer', on = ['SEQN'], validate = \"1:1\")\n",
    "dataset = pd.merge(dataset, data_meds_m, how = 'outer', on = ['SEQN'], validate = \"1:1\")\n",
    "dataset = pd.merge(dataset, data_qns, how = 'outer', on = ['SEQN'], validate = \"1:1\")\n",
    "dataset"
   ]
  },
  {
   "cell_type": "code",
   "execution_count": null,
   "metadata": {},
   "outputs": [],
   "source": [
    "#create list of variables\n",
    "col_list = data_vari.tolist()"
   ]
  },
  {
   "cell_type": "code",
   "execution_count": null,
   "metadata": {},
   "outputs": [],
   "source": [
    "#create empty dataframe\n",
    "data_final = pd.DataFrame()\n",
    "\n",
    "#fill empty dataframe with pandas series from each variable via iteration\n",
    "for i in col_list:\n",
    "    data_final = pd.concat([data_final, dataset[i]], axis=1)\n",
    "    #data_final = pd.concat(data_final, dataset[i], axis=1)\n",
    "    #print(dataset[i])\n",
    "\n",
    "final_data = data_final.dropna(subset=['LBXGH']) \n",
    "final_data"
   ]
  },
  {
   "cell_type": "markdown",
   "metadata": {},
   "source": [
    "As shown in previous cell, all datasets have been combined and only features related to diabetes and mental health have been filtered out to create the dataset from which analysis will be done."
   ]
  },
  {
   "cell_type": "code",
   "execution_count": null,
   "metadata": {},
   "outputs": [],
   "source": [
    "SES = ['INDHHIN2', 'INDFMIN2', 'FSD151', 'FSQ165']\n",
    "SES_data = final_data[SES]\n",
    "SES_data"
   ]
  },
  {
   "cell_type": "code",
   "execution_count": null,
   "metadata": {},
   "outputs": [],
   "source": [
    "SES_data.describe()"
   ]
  },
  {
   "cell_type": "markdown",
   "metadata": {},
   "source": [
    "Coded results for household/family income\n",
    "\n",
    "|Value|Salary Range|\n",
    "|-----|------------|\n",
    "|1|0 to 4999|\n",
    "|2|5000 to 9999|\n",
    "|3|10000 to 14999|\n",
    "|4|15000 to 19999|\n",
    "|5|20000 to 24999|\n",
    "|6|25000 to 34999|\n",
    "|7|35000 to 44999|\n",
    "|8|45000 to 54999|\n",
    "|9|55000 to 64999|\n",
    "|10|65000 to 74999|\n",
    "|12|20000 and over|\n",
    "|13|under 20000|\n",
    "|14|75000 to 99999|\n",
    "|15|100000 and over|\n",
    "\n",
    "We will have to replace NaN values, 77 and 99 which are refuse to answer and do not know respectively."
   ]
  },
  {
   "cell_type": "code",
   "execution_count": null,
   "metadata": {},
   "outputs": [],
   "source": [
    "#To ensure data is a complete set with no blank data\n",
    "#Replace 77.0 and 99.0 with NaN value first, before replacing all NaN values with the mean of the remainder.\n",
    "SES_data['INDHHIN2'].replace(77.0, np.NaN, inplace=True)\n",
    "SES_data['INDHHIN2'].replace(99.0, np.NaN, inplace=True)\n",
    "#Round function used to keep integer values only within the Dataframe\n",
    "SES_data['INDHHIN2'].fillna(round(SES_data['INDHHIN2'].mean()), inplace=True)\n",
    "\n",
    "SES_data['INDFMIN2'].replace(77.0, np.NaN, inplace=True)\n",
    "SES_data['INDFMIN2'].replace(99.0, np.NaN, inplace=True)\n",
    "#Round function used to keep integer values only within the Dataframe\n",
    "SES_data['INDFMIN2'].fillna(round(SES_data['INDFMIN2'].mean()), inplace=True)"
   ]
  },
  {
   "cell_type": "code",
   "execution_count": null,
   "metadata": {},
   "outputs": [],
   "source": [
    "#Too many catergories that are not in order to make sense when plotting a histogram\n",
    "#Convert data values to only have 4 catergories\n",
    "\n",
    "#Cat 1 is under 20000\n",
    "replace_values_cat1 = {2:1, 3:1, 4:1, 13:1}\n",
    "#Cat 2 is 20000 to 74999\n",
    "replace_values_cat2 = {5:2, 6:2, 7:2, 8:2, 9:2, 10:2, 12:2}\n",
    "#Cat 3 is 75000 to 99999\n",
    "replace_values_cat3 = {14:3}\n",
    "#Cat 4 is 100000 and above\n",
    "replace_values_cat4 = {15:4}\n",
    "\n",
    "#Replace the values in 'INDHHIN2' to create 4 catergories\n",
    "SES_data['INDHHIN2'].replace(replace_values_cat1, inplace=True)\n",
    "SES_data['INDHHIN2'].replace(replace_values_cat2, inplace=True)\n",
    "SES_data['INDHHIN2'].replace(replace_values_cat3, inplace=True)\n",
    "SES_data['INDHHIN2'].replace(replace_values_cat4, inplace=True)\n",
    "\n",
    "#Replace the values in 'INDFMIN2' to create 4 catergories\n",
    "SES_data['INDFMIN2'].replace(replace_values_cat1, inplace=True)\n",
    "SES_data['INDFMIN2'].replace(replace_values_cat2, inplace=True)\n",
    "SES_data['INDFMIN2'].replace(replace_values_cat3, inplace=True)\n",
    "SES_data['INDFMIN2'].replace(replace_values_cat4, inplace=True)"
   ]
  },
  {
   "cell_type": "code",
   "execution_count": null,
   "metadata": {},
   "outputs": [],
   "source": [
    "#Should be removed before main integration for project submission\n",
    "\n",
    "check=[11]\n",
    "#check that the value 11 is not in the column as it is not represented in the value coding table above for feature\n",
    "# INDHHIN2 and INDFMIN2 which are household income and family income respectively\n",
    "SES_data['INDHHIN2'].isin(check).sum()"
   ]
  },
  {
   "cell_type": "code",
   "execution_count": null,
   "metadata": {},
   "outputs": [],
   "source": [
    "#Should be removed before main integration for project submission\n",
    "\n",
    "SES_data['INDFMIN2'].isin(check).sum()"
   ]
  },
  {
   "cell_type": "code",
   "execution_count": null,
   "metadata": {},
   "outputs": [],
   "source": [
    "#Plot the income indicators into histograms according to the new catergories that we arranged them in\n",
    "\n",
    "fig, (ax1, ax2) = plt.subplots(1,2, figsize=(10,5))\n",
    "\n",
    "ax1.hist(SES_data['INDHHIN2'], bins=4)\n",
    "ax1.set_ylabel(\"Count\")\n",
    "ax1.set_xlabel(\"Salary Range\")\n",
    "ax1.set_title(\"Total Household Income\")\n",
    "ax1.set_xticks([1,2,3,4]) \n",
    "ax1.set_xticklabels([1,2,3,4])\n",
    "\n",
    "ax2.hist(SES_data['INDFMIN2'], bins=4)\n",
    "ax2.set_ylabel(\"Count\")\n",
    "ax2.set_xlabel(\"Salary Range\")\n",
    "ax2.set_title(\"Total Family Income\")\n",
    "ax2.set_xticks([1,2,3,4]) \n",
    "ax2.set_xticklabels([1,2,3,4])\n",
    "\n",
    "fig.suptitle(\"Household Vs Family Income\")\n",
    "fig.tight_layout(rect=[0, 0.03, 1, 0.95])"
   ]
  },
  {
   "cell_type": "code",
   "execution_count": null,
   "metadata": {},
   "outputs": [],
   "source": [
    "SES_data['FSD151'].replace(7.0, np.NaN, inplace=True)\n",
    "SES_data['FSD151'].replace(9.0, np.NaN, inplace=True)\n",
    "#Round function used to keep integer values only within the Dataframe\n",
    "SES_data['FSD151'].fillna(round(SES_data['FSD151'].mean()), inplace=True)\n",
    "\n",
    "SES_data['FSQ165'].replace(7.0, np.NaN, inplace=True)\n",
    "SES_data['FSQ165'].replace(9.0, np.NaN, inplace=True)\n",
    "#Round function used to keep integer values only within the Dataframe\n",
    "SES_data['FSQ165'].fillna(round(SES_data['FSQ165'].mean()), inplace=True)\n"
   ]
  },
  {
   "cell_type": "code",
   "execution_count": null,
   "metadata": {},
   "outputs": [],
   "source": [
    "Features showing benefit\n",
    "\n",
    "fig, (ax1, ax2) = plt.subplots(1,2, figsize=(10,5))\n",
    "\n",
    "ax1.hist(SES_data['FSD151'], bins=2)\n",
    "ax1.set_ylabel(\"Count\")\n",
    "ax1.set_xlabel(\"Yes or No\")\n",
    "ax1.set_title(\"External food received\")\n",
    "ax1.set_xticks([1,2]) \n",
    "ax1.set_xticklabels(['Yes','No'])\n",
    "\n",
    "ax2.hist(SES_data['FSQ165'], bins=2)\n",
    "ax2.set_ylabel(\"Count\")\n",
    "ax2.set_xlabel(\"Yes or No\")\n",
    "ax2.set_title(\"SNAP benefit received\")\n",
    "ax2.set_xticks([1,2]) \n",
    "ax2.set_xticklabels(['Yes','No'])\n",
    "\n",
    "fig.suptitle(\"Benefits or external food received\")\n",
    "fig.tight_layout(rect=[0, 0.03, 1, 0.95])"
   ]
  }
 ],
 "metadata": {
  "colab": {
   "authorship_tag": "ABX9TyPiXjmxgrZSVwNT4HigtXXl",
   "include_colab_link": true,
   "name": "IND5003 Group Project.ipynb",
   "provenance": []
  },
  "kernelspec": {
   "display_name": "Python 3",
   "language": "python",
   "name": "python3"
  },
  "language_info": {
   "codemirror_mode": {
    "name": "ipython",
    "version": 3
   },
   "file_extension": ".py",
   "mimetype": "text/x-python",
   "name": "python",
   "nbconvert_exporter": "python",
   "pygments_lexer": "ipython3",
   "version": "3.8.11"
  }
 },
 "nbformat": 4,
 "nbformat_minor": 4
}
