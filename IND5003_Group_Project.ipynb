{
 "cells": [
  {
   "cell_type": "markdown",
   "metadata": {
    "colab_type": "text",
    "id": "view-in-github"
   },
   "source": [
    "<a href=\"https://colab.research.google.com/github/birddropping/IND5003-Group-Project/blob/main/IND5003_Group_Project.ipynb\" target=\"_parent\"><img src=\"https://colab.research.google.com/assets/colab-badge.svg\" alt=\"Open In Colab\"/></a>"
   ]
  },
  {
   "cell_type": "code",
   "execution_count": 1,
   "metadata": {
    "id": "ql-xU60LnVNY"
   },
   "outputs": [],
   "source": [
    "import numpy as np\n",
    "import pandas as pd"
   ]
  },
  {
   "cell_type": "code",
   "execution_count": 8,
   "metadata": {},
   "outputs": [
    {
     "name": "stdout",
     "output_type": "stream",
     "text": [
      "<class 'pandas.core.frame.DataFrame'>\n",
      "RangeIndex: 10175 entries, 0 to 10174\n",
      "Data columns (total 47 columns):\n",
      " #   Column    Non-Null Count  Dtype  \n",
      "---  ------    --------------  -----  \n",
      " 0   SEQN      10175 non-null  int64  \n",
      " 1   SDDSRVYR  10175 non-null  int64  \n",
      " 2   RIDSTATR  10175 non-null  int64  \n",
      " 3   RIAGENDR  10175 non-null  int64  \n",
      " 4   RIDAGEYR  10175 non-null  int64  \n",
      " 5   RIDAGEMN  673 non-null    float64\n",
      " 6   RIDRETH1  10175 non-null  int64  \n",
      " 7   RIDRETH3  10175 non-null  int64  \n",
      " 8   RIDEXMON  9813 non-null   float64\n",
      " 9   RIDEXAGM  4213 non-null   float64\n",
      " 10  DMQMILIZ  6261 non-null   float64\n",
      " 11  DMQADFC   543 non-null    float64\n",
      " 12  DMDBORN4  10175 non-null  int64  \n",
      " 13  DMDCITZN  10171 non-null  float64\n",
      " 14  DMDYRSUS  1908 non-null   float64\n",
      " 15  DMDEDUC3  2803 non-null   float64\n",
      " 16  DMDEDUC2  5769 non-null   float64\n",
      " 17  DMDMARTL  5769 non-null   float64\n",
      " 18  RIDEXPRG  1309 non-null   float64\n",
      " 19  SIALANG   10175 non-null  int64  \n",
      " 20  SIAPROXY  10174 non-null  float64\n",
      " 21  SIAINTRP  10175 non-null  int64  \n",
      " 22  FIALANG   10054 non-null  float64\n",
      " 23  FIAPROXY  10054 non-null  float64\n",
      " 24  FIAINTRP  10054 non-null  float64\n",
      " 25  MIALANG   7311 non-null   float64\n",
      " 26  MIAPROXY  7312 non-null   float64\n",
      " 27  MIAINTRP  7313 non-null   float64\n",
      " 28  AIALANGA  6317 non-null   float64\n",
      " 29  DMDHHSIZ  10175 non-null  int64  \n",
      " 30  DMDFMSIZ  10175 non-null  int64  \n",
      " 31  DMDHHSZA  10175 non-null  int64  \n",
      " 32  DMDHHSZB  10175 non-null  int64  \n",
      " 33  DMDHHSZE  10175 non-null  int64  \n",
      " 34  DMDHRGND  10175 non-null  int64  \n",
      " 35  DMDHRAGE  10175 non-null  int64  \n",
      " 36  DMDHRBR4  9878 non-null   float64\n",
      " 37  DMDHREDU  9881 non-null   float64\n",
      " 38  DMDHRMAR  10052 non-null  float64\n",
      " 39  DMDHSEDU  5342 non-null   float64\n",
      " 40  WTINT2YR  10175 non-null  float64\n",
      " 41  WTMEC2YR  10175 non-null  float64\n",
      " 42  SDMVPSU   10175 non-null  int64  \n",
      " 43  SDMVSTRA  10175 non-null  int64  \n",
      " 44  INDHHIN2  10042 non-null  float64\n",
      " 45  INDFMIN2  10052 non-null  float64\n",
      " 46  INDFMPIR  9390 non-null   float64\n",
      "dtypes: float64(28), int64(19)\n",
      "memory usage: 3.6 MB\n"
     ]
    }
   ],
   "source": [
    "data_demo = pd.read_csv('data/demographic.csv')\n",
    "data_diet = pd.read_csv('data/diet.csv')\n",
    "data_exam = pd.read_csv('data/examination.csv')\n",
    "data_labs = pd.read_csv('data/labs.csv')\n",
    "data_meds = pd.read_csv('data/medications.csv')\n",
    "data_qns = pd.read_csv('data/questionnaire.csv')\n",
    "\n",
    "data_pri = pd.concat()"
   ]
  },
  {
   "cell_type": "code",
   "execution_count": null,
   "metadata": {},
   "outputs": [],
   "source": []
  }
 ],
 "metadata": {
  "colab": {
   "authorship_tag": "ABX9TyPiXjmxgrZSVwNT4HigtXXl",
   "include_colab_link": true,
   "name": "IND5003 Group Project.ipynb",
   "provenance": []
  },
  "kernelspec": {
   "display_name": "Python 3",
   "language": "python",
   "name": "python3"
  },
  "language_info": {
   "codemirror_mode": {
    "name": "ipython",
    "version": 3
   },
   "file_extension": ".py",
   "mimetype": "text/x-python",
   "name": "python",
   "nbconvert_exporter": "python",
   "pygments_lexer": "ipython3",
   "version": "3.8.8"
  }
 },
 "nbformat": 4,
 "nbformat_minor": 4
}
